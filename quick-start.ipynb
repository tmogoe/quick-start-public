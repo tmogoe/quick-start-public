{
 "cells": [
  {
   "cell_type": "markdown",
   "id": "785747fe",
   "metadata": {},
   "source": [
    "# Quickstart\n",
    "\n",
    "- [Quickstart — Folium 0.12.1 documentation](https://python-visualization.github.io/folium/quickstart.html)\n",
    "- テスト"
   ]
  },
  {
   "cell_type": "markdown",
   "id": "2971d8dd",
   "metadata": {},
   "source": [
    "## Getting Started\n",
    "\n",
    "To create a base map, simply pass your starting coordinates to Folium:"
   ]
  },
  {
   "cell_type": "code",
   "execution_count": 1,
   "id": "caa2432e",
   "metadata": {},
   "outputs": [],
   "source": [
    "import folium\n",
    "\n",
    "\n",
    "m = folium.Map(location=[45.5236, -122.6750])"
   ]
  },
  {
   "cell_type": "markdown",
   "id": "0b63f816",
   "metadata": {},
   "source": [
    "To display it in a Jupyter notebook, simply ask for the object representation:"
   ]
  },
  {
   "cell_type": "code",
   "execution_count": 2,
   "id": "cd6f9795",
   "metadata": {},
   "outputs": [
    {
     "data": {
      "text/html": [
       "<div style=\"width:100%;\"><div style=\"position:relative;width:100%;height:0;padding-bottom:60%;\"><span style=\"color:#565656\">Make this Notebook Trusted to load map: File -> Trust Notebook</span><iframe srcdoc=\"&lt;!DOCTYPE html&gt;\n",
       "&lt;head&gt;    \n",
       "    &lt;meta http-equiv=&quot;content-type&quot; content=&quot;text/html; charset=UTF-8&quot; /&gt;\n",
       "    \n",
       "        &lt;script&gt;\n",
       "            L_NO_TOUCH = false;\n",
       "            L_DISABLE_3D = false;\n",
       "        &lt;/script&gt;\n",
       "    \n",
       "    &lt;style&gt;html, body {width: 100%;height: 100%;margin: 0;padding: 0;}&lt;/style&gt;\n",
       "    &lt;style&gt;#map {position:absolute;top:0;bottom:0;right:0;left:0;}&lt;/style&gt;\n",
       "    &lt;script src=&quot;https://cdn.jsdelivr.net/npm/leaflet@1.6.0/dist/leaflet.js&quot;&gt;&lt;/script&gt;\n",
       "    &lt;script src=&quot;https://code.jquery.com/jquery-1.12.4.min.js&quot;&gt;&lt;/script&gt;\n",
       "    &lt;script src=&quot;https://maxcdn.bootstrapcdn.com/bootstrap/3.2.0/js/bootstrap.min.js&quot;&gt;&lt;/script&gt;\n",
       "    &lt;script src=&quot;https://cdnjs.cloudflare.com/ajax/libs/Leaflet.awesome-markers/2.0.2/leaflet.awesome-markers.js&quot;&gt;&lt;/script&gt;\n",
       "    &lt;link rel=&quot;stylesheet&quot; href=&quot;https://cdn.jsdelivr.net/npm/leaflet@1.6.0/dist/leaflet.css&quot;/&gt;\n",
       "    &lt;link rel=&quot;stylesheet&quot; href=&quot;https://maxcdn.bootstrapcdn.com/bootstrap/3.2.0/css/bootstrap.min.css&quot;/&gt;\n",
       "    &lt;link rel=&quot;stylesheet&quot; href=&quot;https://maxcdn.bootstrapcdn.com/bootstrap/3.2.0/css/bootstrap-theme.min.css&quot;/&gt;\n",
       "    &lt;link rel=&quot;stylesheet&quot; href=&quot;https://maxcdn.bootstrapcdn.com/font-awesome/4.6.3/css/font-awesome.min.css&quot;/&gt;\n",
       "    &lt;link rel=&quot;stylesheet&quot; href=&quot;https://cdnjs.cloudflare.com/ajax/libs/Leaflet.awesome-markers/2.0.2/leaflet.awesome-markers.css&quot;/&gt;\n",
       "    &lt;link rel=&quot;stylesheet&quot; href=&quot;https://cdn.jsdelivr.net/gh/python-visualization/folium/folium/templates/leaflet.awesome.rotate.min.css&quot;/&gt;\n",
       "    \n",
       "            &lt;meta name=&quot;viewport&quot; content=&quot;width=device-width,\n",
       "                initial-scale=1.0, maximum-scale=1.0, user-scalable=no&quot; /&gt;\n",
       "            &lt;style&gt;\n",
       "                #map_c550a99e803b1ec5653fab728114304b {\n",
       "                    position: relative;\n",
       "                    width: 100.0%;\n",
       "                    height: 100.0%;\n",
       "                    left: 0.0%;\n",
       "                    top: 0.0%;\n",
       "                }\n",
       "            &lt;/style&gt;\n",
       "        \n",
       "&lt;/head&gt;\n",
       "&lt;body&gt;    \n",
       "    \n",
       "            &lt;div class=&quot;folium-map&quot; id=&quot;map_c550a99e803b1ec5653fab728114304b&quot; &gt;&lt;/div&gt;\n",
       "        \n",
       "&lt;/body&gt;\n",
       "&lt;script&gt;    \n",
       "    \n",
       "            var map_c550a99e803b1ec5653fab728114304b = L.map(\n",
       "                &quot;map_c550a99e803b1ec5653fab728114304b&quot;,\n",
       "                {\n",
       "                    center: [45.5236, -122.675],\n",
       "                    crs: L.CRS.EPSG3857,\n",
       "                    zoom: 10,\n",
       "                    zoomControl: true,\n",
       "                    preferCanvas: false,\n",
       "                }\n",
       "            );\n",
       "\n",
       "            \n",
       "\n",
       "        \n",
       "    \n",
       "            var tile_layer_c6e678818d015c427f1186e034f9f139 = L.tileLayer(\n",
       "                &quot;https://{s}.tile.openstreetmap.org/{z}/{x}/{y}.png&quot;,\n",
       "                {&quot;attribution&quot;: &quot;Data by \\u0026copy; \\u003ca href=\\&quot;http://openstreetmap.org\\&quot;\\u003eOpenStreetMap\\u003c/a\\u003e, under \\u003ca href=\\&quot;http://www.openstreetmap.org/copyright\\&quot;\\u003eODbL\\u003c/a\\u003e.&quot;, &quot;detectRetina&quot;: false, &quot;maxNativeZoom&quot;: 18, &quot;maxZoom&quot;: 18, &quot;minZoom&quot;: 0, &quot;noWrap&quot;: false, &quot;opacity&quot;: 1, &quot;subdomains&quot;: &quot;abc&quot;, &quot;tms&quot;: false}\n",
       "            ).addTo(map_c550a99e803b1ec5653fab728114304b);\n",
       "        \n",
       "&lt;/script&gt;\" style=\"position:absolute;width:100%;height:100%;left:0;top:0;border:none !important;\" allowfullscreen webkitallowfullscreen mozallowfullscreen></iframe></div></div>"
      ],
      "text/plain": [
       "<folium.folium.Map at 0x1e2c8b23790>"
      ]
     },
     "execution_count": 2,
     "metadata": {},
     "output_type": "execute_result"
    }
   ],
   "source": [
    "m"
   ]
  },
  {
   "cell_type": "markdown",
   "id": "629cddf0",
   "metadata": {},
   "source": [
    "to save it in a file,"
   ]
  },
  {
   "cell_type": "code",
   "execution_count": 3,
   "id": "143ca4ef",
   "metadata": {},
   "outputs": [],
   "source": [
    "m.save(\"index.html\")"
   ]
  },
  
  {
   "cell_type": "markdown",
   "id": "c6278339",
   "metadata": {},
   "source": [
    "One can use Cloudmade or Mapbox custom tilesets–simply pass your key to the API_key keyword:"
   ]
  },
  {
   "cell_type": "code",
   "execution_count": 5,
   "id": "94858fdc",
   "metadata": {},
   "outputs": [
    {
     "ename": "ValueError",
     "evalue": "Built-in templates for Mapbox and Cloudmade have been removed. You can still use these providers by passing a URL to the `tiles` argument. See the documentation of the `TileLayer` class.",
     "output_type": "error",
     "traceback": [
      "\u001b[1;31m---------------------------------------------------------------------------\u001b[0m",
      "\u001b[1;31mValueError\u001b[0m                                Traceback (most recent call last)",
      "Input \u001b[1;32mIn [5]\u001b[0m, in \u001b[0;36m<cell line: 1>\u001b[1;34m()\u001b[0m\n\u001b[1;32m----> 1\u001b[0m \u001b[43mfolium\u001b[49m\u001b[38;5;241;43m.\u001b[39;49m\u001b[43mMap\u001b[49m\u001b[43m(\u001b[49m\u001b[43mlocation\u001b[49m\u001b[38;5;241;43m=\u001b[39;49m\u001b[43m[\u001b[49m\u001b[38;5;241;43m45.5236\u001b[39;49m\u001b[43m,\u001b[49m\u001b[43m \u001b[49m\u001b[38;5;241;43m-\u001b[39;49m\u001b[38;5;241;43m122.6750\u001b[39;49m\u001b[43m]\u001b[49m\u001b[43m,\u001b[49m\n\u001b[0;32m      2\u001b[0m \u001b[43m           \u001b[49m\u001b[43mtiles\u001b[49m\u001b[38;5;241;43m=\u001b[39;49m\u001b[38;5;124;43m'\u001b[39;49m\u001b[38;5;124;43mMapbox\u001b[39;49m\u001b[38;5;124;43m'\u001b[39;49m\u001b[43m,\u001b[49m\n\u001b[0;32m      3\u001b[0m \u001b[43m           \u001b[49m\u001b[43mAPI_key\u001b[49m\u001b[38;5;241;43m=\u001b[39;49m\u001b[38;5;124;43m'\u001b[39;49m\u001b[38;5;124;43myour.API.key\u001b[39;49m\u001b[38;5;124;43m'\u001b[39;49m\u001b[43m)\u001b[49m\n",
      "File \u001b[1;32m~\\anaconda3\\envs\\myenv\\lib\\site-packages\\folium\\folium.py:288\u001b[0m, in \u001b[0;36mMap.__init__\u001b[1;34m(self, location, width, height, left, top, position, tiles, attr, min_zoom, max_zoom, zoom_start, min_lat, max_lat, min_lon, max_lon, max_bounds, crs, control_scale, prefer_canvas, no_touch, disable_3d, png_enabled, zoom_control, **kwargs)\u001b[0m\n\u001b[0;32m    285\u001b[0m \u001b[38;5;28mself\u001b[39m\u001b[38;5;241m.\u001b[39mobjects_to_stay_in_front \u001b[38;5;241m=\u001b[39m []\n\u001b[0;32m    287\u001b[0m \u001b[38;5;28;01mif\u001b[39;00m tiles:\n\u001b[1;32m--> 288\u001b[0m     tile_layer \u001b[38;5;241m=\u001b[39m \u001b[43mTileLayer\u001b[49m\u001b[43m(\u001b[49m\u001b[43mtiles\u001b[49m\u001b[38;5;241;43m=\u001b[39;49m\u001b[43mtiles\u001b[49m\u001b[43m,\u001b[49m\u001b[43m \u001b[49m\u001b[43mattr\u001b[49m\u001b[38;5;241;43m=\u001b[39;49m\u001b[43mattr\u001b[49m\u001b[43m,\u001b[49m\n\u001b[0;32m    289\u001b[0m \u001b[43m                           \u001b[49m\u001b[43mmin_zoom\u001b[49m\u001b[38;5;241;43m=\u001b[39;49m\u001b[43mmin_zoom\u001b[49m\u001b[43m,\u001b[49m\u001b[43m \u001b[49m\u001b[43mmax_zoom\u001b[49m\u001b[38;5;241;43m=\u001b[39;49m\u001b[43mmax_zoom\u001b[49m\u001b[43m)\u001b[49m\n\u001b[0;32m    290\u001b[0m     \u001b[38;5;28mself\u001b[39m\u001b[38;5;241m.\u001b[39madd_child(tile_layer, name\u001b[38;5;241m=\u001b[39mtile_layer\u001b[38;5;241m.\u001b[39mtile_name)\n",
      "File \u001b[1;32m~\\anaconda3\\envs\\myenv\\lib\\site-packages\\folium\\raster_layers.py:95\u001b[0m, in \u001b[0;36mTileLayer.__init__\u001b[1;34m(self, tiles, min_zoom, max_zoom, max_native_zoom, attr, detect_retina, name, overlay, control, show, no_wrap, subdomains, tms, opacity, **kwargs)\u001b[0m\n\u001b[0;32m     92\u001b[0m tiles_flat \u001b[38;5;241m=\u001b[39m \u001b[38;5;124m'\u001b[39m\u001b[38;5;124m'\u001b[39m\u001b[38;5;241m.\u001b[39mjoin(tiles\u001b[38;5;241m.\u001b[39mlower()\u001b[38;5;241m.\u001b[39mstrip()\u001b[38;5;241m.\u001b[39msplit())\n\u001b[0;32m     93\u001b[0m \u001b[38;5;28;01mif\u001b[39;00m tiles_flat \u001b[38;5;129;01min\u001b[39;00m {\u001b[38;5;124m'\u001b[39m\u001b[38;5;124mcloudmade\u001b[39m\u001b[38;5;124m'\u001b[39m, \u001b[38;5;124m'\u001b[39m\u001b[38;5;124mmapbox\u001b[39m\u001b[38;5;124m'\u001b[39m, \u001b[38;5;124m'\u001b[39m\u001b[38;5;124mmapboxbright\u001b[39m\u001b[38;5;124m'\u001b[39m, \u001b[38;5;124m'\u001b[39m\u001b[38;5;124mmapboxcontrolroom\u001b[39m\u001b[38;5;124m'\u001b[39m}:\n\u001b[0;32m     94\u001b[0m     \u001b[38;5;66;03m# added in May 2020 after v0.11.0, remove in a future release\u001b[39;00m\n\u001b[1;32m---> 95\u001b[0m     \u001b[38;5;28;01mraise\u001b[39;00m \u001b[38;5;167;01mValueError\u001b[39;00m(\n\u001b[0;32m     96\u001b[0m         \u001b[38;5;124m'\u001b[39m\u001b[38;5;124mBuilt-in templates for Mapbox and Cloudmade have been removed. \u001b[39m\u001b[38;5;124m'\u001b[39m\n\u001b[0;32m     97\u001b[0m         \u001b[38;5;124m'\u001b[39m\u001b[38;5;124mYou can still use these providers by passing a URL to the `tiles` \u001b[39m\u001b[38;5;124m'\u001b[39m\n\u001b[0;32m     98\u001b[0m         \u001b[38;5;124m'\u001b[39m\u001b[38;5;124margument. See the documentation of the `TileLayer` class.\u001b[39m\u001b[38;5;124m'\u001b[39m\n\u001b[0;32m     99\u001b[0m     )\n\u001b[0;32m    100\u001b[0m templates \u001b[38;5;241m=\u001b[39m \u001b[38;5;28mlist\u001b[39m(\u001b[38;5;28mself\u001b[39m\u001b[38;5;241m.\u001b[39m_env\u001b[38;5;241m.\u001b[39mlist_templates(\n\u001b[0;32m    101\u001b[0m     filter_func\u001b[38;5;241m=\u001b[39m\u001b[38;5;28;01mlambda\u001b[39;00m x: x\u001b[38;5;241m.\u001b[39mstartswith(\u001b[38;5;124m'\u001b[39m\u001b[38;5;124mtiles/\u001b[39m\u001b[38;5;124m'\u001b[39m)))\n\u001b[0;32m    102\u001b[0m tile_template \u001b[38;5;241m=\u001b[39m \u001b[38;5;124m'\u001b[39m\u001b[38;5;124mtiles/\u001b[39m\u001b[38;5;124m'\u001b[39m \u001b[38;5;241m+\u001b[39m tiles_flat \u001b[38;5;241m+\u001b[39m \u001b[38;5;124m'\u001b[39m\u001b[38;5;124m/tiles.txt\u001b[39m\u001b[38;5;124m'\u001b[39m\n",
      "\u001b[1;31mValueError\u001b[0m: Built-in templates for Mapbox and Cloudmade have been removed. You can still use these providers by passing a URL to the `tiles` argument. See the documentation of the `TileLayer` class."
     ]
    }
   ],
   "source": [
    "folium.Map(location=[45.5236, -122.6750],\n",
    "           tiles='Mapbox',\n",
    "           API_key='your.API.key')"
   ]
  },
  {
   "cell_type": "markdown",
   "id": "d30807bb",
   "metadata": {},
   "source": [
    "Lastly, Folium supports passing any leaflet.js compatible custom tileset:"
   ]
  },
  {
   "cell_type": "code",
   "execution_count": null,
   "id": "9d207b56",
   "metadata": {},
   "outputs": [],
   "source": [
    "folium.Map(location=[45.372, -121.6972],\n",
    "           zoom_start=12,\n",
    "           tiles='http://{s}.tiles.yourtiles.com/{z}/{x}/{y}.png',\n",
    "           attr='My Data Attribution')"
   ]
  },
  {
   "cell_type": "markdown",
   "id": "543b4053",
   "metadata": {},
   "source": [
    "## Markers\n",
    "\n",
    "There are numerous marker types, starting with a simple Leaflet style location marker with a popup and tooltip HTML."
   ]
  },
  {
   "cell_type": "code",
   "execution_count": null,
   "id": "a17e3bb2",
   "metadata": {},
   "outputs": [],
   "source": [
    "m = folium.Map(location=[45.372, -121.6972], zoom_start=12, tiles=\"Stamen Terrain\")\n",
    "\n",
    "tooltip = \"Click me!\"\n",
    "\n",
    "folium.Marker(\n",
    "    [45.3288, -121.6625], popup=\"<i>Mt. Hood Meadows</i>\", tooltip=tooltip\n",
    ").add_to(m)\n",
    "folium.Marker(\n",
    "    [45.3311, -121.7113], popup=\"<b>Timberline Lodge</b>\", tooltip=tooltip\n",
    ").add_to(m)\n",
    "\n",
    "m"
   ]
  },
  {
   "cell_type": "markdown",
   "id": "6b007891",
   "metadata": {},
   "source": [
    "There is built in support for colors and marker icon types from bootstrap."
   ]
  },
  {
   "cell_type": "code",
   "execution_count": null,
   "id": "818688d9",
   "metadata": {},
   "outputs": [],
   "source": [
    "m = folium.Map(location=[45.372, -121.6972], zoom_start=12, tiles=\"Stamen Terrain\")\n",
    "\n",
    "folium.Marker(\n",
    "    location=[45.3288, -121.6625],\n",
    "    popup=\"Mt. Hood Meadows\",\n",
    "    icon=folium.Icon(icon=\"cloud\"),\n",
    ").add_to(m)\n",
    "\n",
    "folium.Marker(\n",
    "    location=[45.3311, -121.7113],\n",
    "    popup=\"Timberline Lodge\",\n",
    "    icon=folium.Icon(color=\"green\"),\n",
    ").add_to(m)\n",
    "\n",
    "folium.Marker(\n",
    "    location=[45.3300, -121.6823],\n",
    "    popup=\"Some Other Location\",\n",
    "    icon=folium.Icon(color=\"red\", icon=\"info-sign\"),\n",
    ").add_to(m)\n",
    "\n",
    "\n",
    "m"
   ]
  },
  {
   "cell_type": "markdown",
   "id": "2c32b8ba",
   "metadata": {},
   "source": [
    "Leaflet’s Circle and CircleMarker, implemented to reflect radii in units of meters and pixels respectively, are available as features. See the features.py for more options."
   ]
  },
  {
   "cell_type": "code",
   "execution_count": null,
   "id": "67a39a2f",
   "metadata": {},
   "outputs": [],
   "source": [
    "m = folium.Map(location=[45.5236, -122.6750], tiles=\"Stamen Toner\", zoom_start=13)\n",
    "\n",
    "folium.Circle(\n",
    "    radius=100,\n",
    "    location=[45.5244, -122.6699],\n",
    "    popup=\"The Waterfront\",\n",
    "    color=\"crimson\",\n",
    "    fill=False,\n",
    ").add_to(m)\n",
    "\n",
    "folium.CircleMarker(\n",
    "    location=[45.5215, -122.6261],\n",
    "    radius=50,\n",
    "    popup=\"Laurelhurst Park\",\n",
    "    color=\"#3186cc\",\n",
    "    fill=True,\n",
    "    fill_color=\"#3186cc\",\n",
    ").add_to(m)\n",
    "\n",
    "\n",
    "m"
   ]
  },
  {
   "cell_type": "markdown",
   "id": "a413d1ac",
   "metadata": {},
   "source": [
    "a convenience function to enable lat/lon popovers. This can help users to find a location by interactively browsing the map."
   ]
  },
  {
   "cell_type": "code",
   "execution_count": null,
   "id": "f42057bc",
   "metadata": {},
   "outputs": [],
   "source": [
    "m = folium.Map(location=[46.1991, -122.1889], tiles=\"Stamen Terrain\", zoom_start=13)\n",
    "\n",
    "m.add_child(folium.LatLngPopup())\n",
    "\n",
    "m"
   ]
  },
  {
   "cell_type": "markdown",
   "id": "83c95bfc",
   "metadata": {},
   "source": [
    "and click-for-marker functionality for on-the-fly placement of markers:"
   ]
  },
  {
   "cell_type": "code",
   "execution_count": null,
   "id": "c5e60220",
   "metadata": {},
   "outputs": [],
   "source": [
    "m = folium.Map(location=[46.8527, -121.7649], tiles=\"Stamen Terrain\", zoom_start=13)\n",
    "\n",
    "folium.Marker([46.8354, -121.7325], popup=\"Camp Muir\").add_to(m)\n",
    "\n",
    "m.add_child(folium.ClickForMarker(popup=\"Waypoint\"))\n",
    "\n",
    "\n",
    "m"
   ]
  },
  {
   "cell_type": "markdown",
   "id": "d3b39743",
   "metadata": {},
   "source": [
    "## Vincent/Vega and Altair/VegaLite Markers\n",
    "\n",
    "folium enables passing any HTML object as a popup, including `bokeh <https://bokeh.pydata.org/en/latest/>`__ plots, but there is a built-in support for vincent and altair visualizations to any marker type, with the visualization as the popover."
   ]
  },
  {
   "cell_type": "code",
   "execution_count": null,
   "id": "d3d2c9a6",
   "metadata": {},
   "outputs": [],
   "source": [
    "import json\n",
    "\n",
    "import requests\n",
    "\n",
    "url = (\n",
    "    \"https://raw.githubusercontent.com/python-visualization/folium/master/examples/data\"\n",
    ")\n",
    "vis1 = json.loads(requests.get(f\"{url}/vis1.json\").text)\n",
    "vis2 = json.loads(requests.get(f\"{url}/vis2.json\").text)\n",
    "vis3 = json.loads(requests.get(f\"{url}/vis3.json\").text)"
   ]
  },
  {
   "cell_type": "code",
   "execution_count": null,
   "id": "bb8f8828",
   "metadata": {},
   "outputs": [],
   "source": [
    "m = folium.Map(location=[46.3014, -123.7390], zoom_start=7, tiles=\"Stamen Terrain\")\n",
    "\n",
    "folium.Marker(\n",
    "    location=[47.3489, -124.708],\n",
    "    popup=folium.Popup(max_width=450).add_child(\n",
    "        folium.Vega(vis1, width=450, height=250)\n",
    "    ),\n",
    ").add_to(m)\n",
    "\n",
    "folium.Marker(\n",
    "    location=[44.639, -124.5339],\n",
    "    popup=folium.Popup(max_width=450).add_child(\n",
    "        folium.Vega(vis2, width=450, height=250)\n",
    "    ),\n",
    ").add_to(m)\n",
    "\n",
    "folium.Marker(\n",
    "    location=[46.216, -124.1280],\n",
    "    popup=folium.Popup(max_width=450).add_child(\n",
    "        folium.Vega(vis3, width=450, height=250)\n",
    "    ),\n",
    ").add_to(m)\n",
    "\n",
    "\n",
    "m"
   ]
  },
  {
   "cell_type": "markdown",
   "id": "c3695cb6",
   "metadata": {},
   "source": [
    "For more information about popups, please visit [Popups.ipynb](https://nbviewer.jupyter.org/github/python-visualization/folium/blob/master/examples/Popups.ipynb)\n",
    "\n",
    "## GeoJSON/TopoJSON Overlays\n",
    "\n",
    "\n",
    "Both GeoJSON and TopoJSON layers can be passed to the map as an overlay, and multiple layers can be visualized on the same map:"
   ]
  },
  {
   "cell_type": "code",
   "execution_count": null,
   "id": "ba124332",
   "metadata": {},
   "outputs": [],
   "source": [
    "url = (\n",
    "    \"https://raw.githubusercontent.com/python-visualization/folium/master/examples/data\"\n",
    ")\n",
    "antarctic_ice_edge = f\"{url}/antarctic_ice_edge.json\"\n",
    "antarctic_ice_shelf_topo = f\"{url}/antarctic_ice_shelf_topo.json\"\n",
    "\n",
    "\n",
    "m = folium.Map(\n",
    "    location=[-59.1759, -11.6016],\n",
    "    tiles=\"cartodbpositron\",\n",
    "    zoom_start=2,\n",
    ")\n",
    "\n",
    "folium.GeoJson(antarctic_ice_edge, name=\"geojson\").add_to(m)\n",
    "\n",
    "folium.TopoJson(\n",
    "    json.loads(requests.get(antarctic_ice_shelf_topo).text),\n",
    "    \"objects.antarctic_ice_shelf\",\n",
    "    name=\"topojson\",\n",
    ").add_to(m)\n",
    "\n",
    "folium.LayerControl().add_to(m)\n",
    "\n",
    "\n",
    "m"
   ]
  },
  {
   "cell_type": "markdown",
   "id": "6b505345",
   "metadata": {},
   "source": [
    "## Choropleth maps\n",
    "\n",
    "Choropleth can be easily created by binding the data between Pandas DataFrames/Series and Geo/TopoJSON geometries. Color Brewer sequential color schemes are built-in to the library, and can be passed to quickly visualize different combinations."
   ]
  },
  {
   "cell_type": "code",
   "execution_count": null,
   "id": "97dd1d00",
   "metadata": {},
   "outputs": [],
   "source": [
    "import pandas as pd\n",
    "\n",
    "url = (\n",
    "    \"https://raw.githubusercontent.com/python-visualization/folium/master/examples/data\"\n",
    ")\n",
    "state_geo = f\"{url}/us-states.json\"\n",
    "state_unemployment = f\"{url}/US_Unemployment_Oct2012.csv\"\n",
    "state_data = pd.read_csv(state_unemployment)\n",
    "\n",
    "m = folium.Map(location=[48, -102], zoom_start=3)\n",
    "\n",
    "folium.Choropleth(\n",
    "    geo_data=state_geo,\n",
    "    name=\"choropleth\",\n",
    "    data=state_data,\n",
    "    columns=[\"State\", \"Unemployment\"],\n",
    "    key_on=\"feature.id\",\n",
    "    fill_color=\"YlGn\",\n",
    "    fill_opacity=0.7,\n",
    "    line_opacity=0.2,\n",
    "    legend_name=\"Unemployment Rate (%)\",\n",
    ").add_to(m)\n",
    "\n",
    "folium.LayerControl().add_to(m)\n",
    "\n",
    "m"
   ]
  },
  {
   "cell_type": "markdown",
   "id": "6e3afb7a",
   "metadata": {},
   "source": [
    "The legend on the upper right is automatically generated for your values using 6 same sized bins. Passing your own bins (number or list) is simple:"
   ]
  },
  {
   "cell_type": "code",
   "execution_count": null,
   "id": "4e44f8de",
   "metadata": {},
   "outputs": [],
   "source": [
    "bins = list(state_data[\"Unemployment\"].quantile([0, 0.25, 0.5, 0.75, 1]))\n",
    "\n",
    "m = folium.Map(location=[48, -102], zoom_start=3)\n",
    "\n",
    "folium.Choropleth(\n",
    "    geo_data=state_geo,\n",
    "    data=state_data,\n",
    "    columns=[\"State\", \"Unemployment\"],\n",
    "    key_on=\"feature.id\",\n",
    "    fill_color=\"BuPu\",\n",
    "    fill_opacity=0.7,\n",
    "    line_opacity=0.5,\n",
    "    legend_name=\"Unemployment Rate (%)\",\n",
    "    bins=bins,\n",
    "    reset=True,\n",
    ").add_to(m)\n",
    "\n",
    "m"
   ]
  },
  {
   "cell_type": "markdown",
   "id": "5f79833b",
   "metadata": {},
   "source": [
    "By binding data via the Pandas DataFrame, different datasets can be quickly visualized.\n",
    "\n",
    "## Styling function\n",
    "\n",
    "GeoJson and TopoJson features accepts style_function to allow for further custimization of the map. Take a look at the use examples below."
   ]
  },
  {
   "cell_type": "code",
   "execution_count": null,
   "id": "0af4a406",
   "metadata": {},
   "outputs": [],
   "source": [
    "import branca\n",
    "\n",
    "url = (\n",
    "    \"https://raw.githubusercontent.com/python-visualization/folium/master/examples/data\"\n",
    ")\n",
    "county_data = f\"{url}/us_county_data.csv\"\n",
    "county_geo = f\"{url}/us_counties_20m_topo.json\"\n",
    "\n",
    "\n",
    "df = pd.read_csv(county_data, na_values=[\" \"])\n",
    "\n",
    "colorscale = branca.colormap.linear.YlOrRd_09.scale(0, 50e3)\n",
    "employed_series = df.set_index(\"FIPS_Code\")[\"Employed_2011\"]\n",
    "\n",
    "\n",
    "def style_function(feature):\n",
    "    employed = employed_series.get(int(feature[\"id\"][-5:]), None)\n",
    "    return {\n",
    "        \"fillOpacity\": 0.5,\n",
    "        \"weight\": 0,\n",
    "        \"fillColor\": \"#black\" if employed is None else colorscale(employed),\n",
    "    }\n",
    "\n",
    "\n",
    "m = folium.Map(location=[48, -102], tiles=\"cartodbpositron\", zoom_start=3)\n",
    "\n",
    "folium.TopoJson(\n",
    "    json.loads(requests.get(county_geo).text),\n",
    "    \"objects.us_counties_20m\",\n",
    "    style_function=style_function,\n",
    ").add_to(m)\n",
    "\n",
    "\n",
    "m"
   ]
  },
  {
   "cell_type": "code",
   "execution_count": null,
   "id": "ee67d3a9",
   "metadata": {},
   "outputs": [],
   "source": [
    "colorscale = branca.colormap.linear.YlGnBu_09.scale(0, 30)\n",
    "\n",
    "employed_series = df.set_index(\"FIPS_Code\")[\"Unemployment_rate_2011\"]\n",
    "\n",
    "\n",
    "def style_function(feature):\n",
    "    employed = employed_series.get(int(feature[\"id\"][-5:]), None)\n",
    "    return {\n",
    "        \"fillOpacity\": 0.5,\n",
    "        \"weight\": 0,\n",
    "        \"fillColor\": \"#black\" if employed is None else colorscale(employed),\n",
    "    }\n",
    "\n",
    "\n",
    "m = folium.Map(location=[48, -102], tiles=\"cartodbpositron\", zoom_start=3)\n",
    "\n",
    "folium.TopoJson(\n",
    "    json.loads(requests.get(county_geo).text),\n",
    "    \"objects.us_counties_20m\",\n",
    "    style_function=style_function,\n",
    ").add_to(m)\n",
    "\n",
    "\n",
    "m"
   ]
  },
  {
   "cell_type": "code",
   "execution_count": null,
   "id": "4f8dcc6e",
   "metadata": {},
   "outputs": [],
   "source": [
    "colorscale = branca.colormap.linear.PuRd_09.scale(0, 100000)\n",
    "\n",
    "employed_series = df.set_index(\"FIPS_Code\")[\"Median_Household_Income_2011\"].dropna()\n",
    "\n",
    "\n",
    "def style_function(feature):\n",
    "    employed = employed_series.get(int(feature[\"id\"][-5:]), None)\n",
    "    return {\n",
    "        \"fillOpacity\": 0.5,\n",
    "        \"weight\": 0,\n",
    "        \"fillColor\": \"#black\" if employed is None else colorscale(employed),\n",
    "    }\n",
    "\n",
    "\n",
    "m = folium.Map(location=[48, -102], tiles=\"cartodbpositron\", zoom_start=3)\n",
    "\n",
    "folium.TopoJson(\n",
    "    json.loads(requests.get(county_geo).text),\n",
    "    \"objects.us_counties_20m\",\n",
    "    style_function=style_function,\n",
    ").add_to(m)\n",
    "\n",
    "\n",
    "m"
   ]
  },
  {
   "cell_type": "markdown",
   "id": "64a19b3c",
   "metadata": {},
   "source": [
    "For more examples and use cases please take a look at the gallery:\n",
    "\n",
    "https://nbviewer.jupyter.org/github/python-visualization/folium_contrib/tree/master/notebooks/"
   ]
  },
  {
   "cell_type": "code",
   "execution_count": null,
   "id": "7a5f786c",
   "metadata": {},
   "outputs": [],
   "source": []
  }
 ],
 "metadata": {
  "kernelspec": {
   "display_name": "Python 3 (ipykernel)",
   "language": "python",
   "name": "python3"
  },
  "language_info": {
   "codemirror_mode": {
    "name": "ipython",
    "version": 3
   },
   "file_extension": ".py",
   "mimetype": "text/x-python",
   "name": "python",
   "nbconvert_exporter": "python",
   "pygments_lexer": "ipython3",
   "version": "3.8.13"
  },
  "toc": {
   "base_numbering": 1,
   "nav_menu": {},
   "number_sections": true,
   "sideBar": true,
   "skip_h1_title": true,
   "title_cell": "Table of Contents",
   "title_sidebar": "Contents",
   "toc_cell": false,
   "toc_position": {},
   "toc_section_display": true,
   "toc_window_display": true
  }
 },
 "nbformat": 4,
 "nbformat_minor": 5
}
